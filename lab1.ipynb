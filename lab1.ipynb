{
 "cells": [
  {
   "attachments": {},
   "cell_type": "markdown",
   "metadata": {},
   "source": [
    "# Cyfrowe przetwarzanie sygnałów i obrazów\n",
    "Aleksandra Ciura, 259092\n",
    "\n",
    "## Lista 1"
   ]
  },
  {
   "attachments": {},
   "cell_type": "markdown",
   "metadata": {},
   "source": [
    "# TODO\n",
    "\n",
    "- dodanie własnych wniosków itp\n"
   ]
  },
  {
   "cell_type": "code",
   "execution_count": null,
   "metadata": {},
   "outputs": [],
   "source": [
    "import pandas as pd\n",
    "import plotly.express as px\n",
    "import plotly.graph_objects as go\n",
    "import numpy as np\n",
    "import scipy.signal as ss"
   ]
  },
  {
   "attachments": {},
   "cell_type": "markdown",
   "metadata": {},
   "source": [
    "**Ćwiczenie 1.**\n",
    "\n",
    "Napisz skrypt w Pythonie/Matlabie umożliwiający wczytywanie i wi-\n",
    "zualizację badanych sygnałów. Program powinien umożliwiać obserwowanie wycinka\n",
    "sygnału dla zadanego przedziału czasowego, skalowanie osi wykresów i ich opis oraz\n",
    "zapis dowolnego wycinka sygnału do pliku o podanej nazwie."
   ]
  },
  {
   "cell_type": "code",
   "execution_count": null,
   "metadata": {},
   "outputs": [],
   "source": [
    "ekg1_columns_names = [1, 2, 3, 4, 5, 6, 7, 8, 9, 10, 11, 12] #nazwy kolejnych kolumn dla pliku ekg1.txt\n",
    "\n",
    "f1 = 1000       # częstotliwość dla danych z pliku ekg1.txt\n",
    "f100 = 360      # częstotliwość dla danych z pliku ekg100.txt\n",
    "f_noise = 360   # częstotliwość dla danych z pliku ekg_noise.txt"
   ]
  },
  {
   "cell_type": "code",
   "execution_count": null,
   "metadata": {},
   "outputs": [],
   "source": [
    "ekg1 = pd.read_csv('ekg1.txt', sep=' ', names=ekg1_columns_names)\n",
    "ekg1.index = ekg1.index/f1\n",
    "\n",
    "ekg100 = pd.read_csv('ekg100.txt', names = [1])\n",
    "ekg100.index = ekg100.index/f100\n",
    "\n",
    "ekg_noise = pd.read_csv('ekg_noise.txt', sep='\\s+', index_col=0, names = ['time', 'variable'])\n",
    "ekg_noise.index = ekg_noise.index/f_noise"
   ]
  },
  {
   "cell_type": "code",
   "execution_count": null,
   "metadata": {},
   "outputs": [],
   "source": [
    "ekg1_plot = px.line(ekg1)\n",
    "ekg1_plot.update_traces(line = dict(width = 1))\n",
    "ekg1_plot.update_xaxes(title_text='time [s]')\n",
    "ekg1_plot.update_layout(title_text='EKG 1 plot', title_font_size=20, title_x=0.5)\n",
    "ekg1_plot.show()"
   ]
  },
  {
   "attachments": {},
   "cell_type": "markdown",
   "metadata": {},
   "source": [
    ">Na wykresie znajduje się 12 odprowadzeń sygnału ekg o częstotliwości 1000 Hz. Wykres jest interaktywny - można powiększyć potrzebny fragment, wyświetlić jedynie wybrane osie oraz zapisać dany fragment do pliku."
   ]
  },
  {
   "cell_type": "code",
   "execution_count": null,
   "metadata": {},
   "outputs": [],
   "source": [
    "ekg100_plot = px.line(ekg100.iloc[:1500])\n",
    "ekg100_plot.update_xaxes(title_text='time [s]')\n",
    "ekg100_plot.update_layout(title_text='EKG 100 plot', title_font_size=20, title_x=0.5, showlegend=False)\n",
    "ekg100_plot.show()"
   ]
  },
  {
   "attachments": {},
   "cell_type": "markdown",
   "metadata": {},
   "source": [
    ">Na wykresie znajduje się fragment sygnału ekg o częstotliwości 360 Hz, w celu czytelności zostało przedstawione jedynie pierwsze 1500 pomiarów. Jest to ok. 4 sek sygnału, kiedy pełen pomiar ma ok. 3 min. "
   ]
  },
  {
   "cell_type": "code",
   "execution_count": null,
   "metadata": {},
   "outputs": [],
   "source": [
    "ekg_noise_plot = px.line(ekg_noise)\n",
    "ekg_noise_plot.update_xaxes(title_text='time [s]')\n",
    "ekg_noise_plot.update_layout(title_text='EKG with noise plot', title_font_size=20, title_x=0.5, showlegend=False)\n",
    "ekg_noise_plot.show()"
   ]
  },
  {
   "attachments": {},
   "cell_type": "markdown",
   "metadata": {},
   "source": [
    "> Na wykresie znajduje się sygnał o czestotliwości 360 Hz, jednak jak mozna zauważyć w trakcie wykonywania pomiaru musiały wystąpić zakłócenia, gdyż wykres jest nierówny."
   ]
  },
  {
   "attachments": {},
   "cell_type": "markdown",
   "metadata": {},
   "source": [
    "**Ćwiczenie 2.** \n",
    "\n",
    "Celem ćwiczenia jest praktyczne wypróbowanie funkcji numpy.fft\n",
    "i numpy.ifft do wyznaczania prostej i odwrotnej transformaty Fouriera.\n",
    "1. Wygeneruj ciąg próbek odpowiadający fali sinusoidalnej o częstotliwości 50 Hz\n",
    "i długości 65536.\n",
    "2. Wyznacz dyskretną transformatę Fouriera tego sygnału i przedstaw jego widmo\n",
    "amplitudowe na wykresie w zakresie częstotliwości [0, fs/2], gdzie fs oznacza\n",
    "częstotliwość próbkowania."
   ]
  },
  {
   "cell_type": "code",
   "execution_count": null,
   "metadata": {},
   "outputs": [],
   "source": [
    "f = 50      # częstotliwość fali sinusoidalnej\n",
    "N = 65536   #długość ciągu próbek\n",
    "sampling_frequency = 480000\n",
    "\n",
    "frequency_ekg100 = np.arange(0, N)\n",
    "t = frequency_ekg100/f\n",
    "sinus_50_fs_1 = np.sin(2*np.pi*f*frequency_ekg100/sampling_frequency)\n",
    "\n",
    "sinus_plot = px.line(sinus_50_fs_1)\n",
    "sinus_plot.update_xaxes(title_text='time [s]')\n",
    "sinus_plot.update_layout(title_text='Sinus', title_font_size=20, title_x=0.5, showlegend=False)\n",
    "\n",
    "\n",
    "amplitude_spectrum = np.abs(np.fft.fft(sinus_50_fs_1))/(N/2)\n",
    "frequency = np.fft.rfftfreq(N, 1/sampling_frequency)\n",
    "\n",
    "sinus_amplitude_spectrum_plot = go.Figure(go.Scatter(x = frequency, y=amplitude_spectrum, mode='lines'))\n",
    "sinus_amplitude_spectrum_plot.update_xaxes(title_text = 'Frequency [Hz]', range=[0, 1000])\n",
    "sinus_amplitude_spectrum_plot.update_yaxes(title_text = 'Amplitude')\n",
    "sinus_amplitude_spectrum_plot.update_layout(title_text='Amplitude spectrum of sinus', title_font_size=20, title_x=0.5, showlegend=False)\n",
    "\n",
    "sinus_plot.show()\n",
    "sinus_amplitude_spectrum_plot.show()"
   ]
  },
  {
   "attachments": {},
   "cell_type": "markdown",
   "metadata": {},
   "source": [
    ">Na wykresach znajdują się odpowiednio (1) wygnerowany sygnał sinusoidalny o częstotliwości 50 Hz, złożony z 65536 próbek oraz (2) jego widmo amplitudowe. Częstotliwość próbkowania została wybrana 480000. Na wykresie widma widzimy jeden 'prążek', czyli zostało wygnerowane poprawnie"
   ]
  },
  {
   "attachments": {},
   "cell_type": "markdown",
   "metadata": {},
   "source": [
    "3. Wygeneruj ciąg próbek mieszaniny dwóch fal sinusoidalnych (tzn. ich kombinacji\n",
    "liniowej) o częstotliwościach 50 i 60 Hz. Wykonaj zadanie z punktu 2 dla tego\n",
    "sygnału.\n",
    "4. Powtórz eksperymenty dla różnych czasów trwania sygnałów, tzn. dla różnych\n",
    "częstotliwości próbkowania"
   ]
  },
  {
   "cell_type": "code",
   "execution_count": null,
   "metadata": {},
   "outputs": [],
   "source": [
    "f_2 = 60\n",
    "sampling_frequency_2 = 960000\n",
    "sampling_frequency_3 = 240000\n",
    "\n",
    "sinus_50_fs_1 = np.sin(2*np.pi*f*frequency_ekg100/sampling_frequency)\n",
    "sinus_60_fs_1 = np.sin(2*np.pi*f_2*frequency_ekg100/sampling_frequency)\n",
    "\n",
    "sinus_50_fs_2 = np.sin(2*np.pi*f*frequency_ekg100/sampling_frequency_2)\n",
    "sinus_60_fs_2 = np.sin(2*np.pi*f_2*frequency_ekg100/sampling_frequency_2)\n",
    "\n",
    "sinus_50_fs_3 = np.sin(2*np.pi*f*frequency_ekg100/sampling_frequency_3)\n",
    "sinus_60_fs_3 = np.sin(2*np.pi*f_2*frequency_ekg100/sampling_frequency_3)\n",
    "\n",
    "sinus_sum_plot = go.Figure()\n",
    "sinus_sum_plot.add_trace(go.Scatter(x=frequency_ekg100, y=sinus_50_fs_1 + sinus_60_fs_1, mode='lines', name='sampling frequency = 480000'))\n",
    "sinus_sum_plot.add_trace(go.Scatter(x=frequency_ekg100, y=sinus_50_fs_2 + sinus_60_fs_2, mode='lines', name='sampling frequency = 960000'))\n",
    "sinus_sum_plot.add_trace(go.Scatter(x=frequency_ekg100, y=sinus_50_fs_3 + sinus_60_fs_3, mode='lines', name='sampling frequency = 240000'))\n",
    "sinus_sum_plot.update_layout(title_text='Sinus sum', title_font_size=20, title_x=0.5)\n",
    "sinus_sum_plot.update_xaxes(title_text='time [s]')\n",
    "\n",
    "amplitude_spectrum_sinus_sum_fs_1 = np.abs(np.fft.fft(sinus_50_fs_1 + sinus_60_fs_1)) / ( N/2 )\n",
    "frequency_sinus_sum_fs_1 = np.fft.rfftfreq(N, 1/sampling_frequency)\n",
    "\n",
    "amplitude_spectrum_sinus_sum_fs_2 = np.abs(np.fft.fft(sinus_50_fs_2 + sinus_60_fs_2)) / ( N/2 )\n",
    "frequency_sinus_sum_fs_2 = np.fft.rfftfreq(N, 1/sampling_frequency_2)\n",
    "\n",
    "amplitude_spectrum_sinus_sum_fs_3 = np.abs(np.fft.fft(sinus_50_fs_3 + sinus_60_fs_3)) / ( N/2 )\n",
    "frequency_sinus_sum_fs_3 = np.fft.rfftfreq(N, 1/sampling_frequency_3)\n",
    "\n",
    "sinus_sum_amplitude_spectrum_plot = go.Figure()\n",
    "sinus_sum_amplitude_spectrum_plot.add_trace(go.Scatter(x = frequency_sinus_sum_fs_1, y=amplitude_spectrum_sinus_sum_fs_1, mode='lines', name='sampling frequency = 480000'))\n",
    "sinus_sum_amplitude_spectrum_plot.add_trace(go.Scatter(x = frequency_sinus_sum_fs_2, y=amplitude_spectrum_sinus_sum_fs_2, mode='lines', name='sampling frequency = 960000'))\n",
    "sinus_sum_amplitude_spectrum_plot.add_trace(go.Scatter(x = frequency_sinus_sum_fs_3, y=amplitude_spectrum_sinus_sum_fs_3, mode='lines', name='sampling frequency = 240000'))\n",
    "sinus_sum_amplitude_spectrum_plot.update_xaxes(title_text = 'Frequency [Hz]', range=[0, 1000])\n",
    "sinus_sum_amplitude_spectrum_plot.update_yaxes(title_text = 'Amplitude')\n",
    "sinus_sum_amplitude_spectrum_plot.update_layout(title_text=\"Amplitude spectrum of sinus's sum\", title_font_size=20, title_x=0.5)\n",
    "\n",
    "sinus_sum_plot.show()\n",
    "sinus_sum_amplitude_spectrum_plot.show()"
   ]
  },
  {
   "attachments": {},
   "cell_type": "markdown",
   "metadata": {},
   "source": [
    ">Na pierwszym wykresie widzimy złożenie sinusów o częstotliwościach 50 i 60 Hz oraz o 3 róznych częstotliwościach próbkowania. Na drugim wykresie znajdują się odpowiednie widma amplitudowe. Wszystkie widma są do siebie zbliżone, dleikatnie różnia się głownie wysokością 'prążka'"
   ]
  },
  {
   "attachments": {},
   "cell_type": "markdown",
   "metadata": {},
   "source": [
    "**Ćwiczenie 3.** \n",
    "Celem ćwiczenia jest obserwacja widma sygnału EKG.\n",
    "1. Wczytać sygnał ecg100.txt i ocenić go wizualnie na wykresie\n",
    "2. Wyznaczyć jego dyskretną transformatę Fouriera i przedstawić widmo amplitudowe sygnału w funkcji częstotliwości w zakresie [0, fs/2], gdzie fs oznacza\n",
    "częstotliwość próbkowania."
   ]
  },
  {
   "cell_type": "code",
   "execution_count": null,
   "metadata": {},
   "outputs": [],
   "source": [
    "frequency_ekg100 = np.fft.fftfreq(ekg100.size, 1/f100)\n",
    "amplitude_spectrum_ekg100 = np.abs(np.fft.fft(ekg100[1]))/(ekg100.size//2)\n",
    "\n",
    "amplitude_spectrum_ekg100_plot = go.Figure(go.Scatter(x = frequency_ekg100, y=amplitude_spectrum_ekg100, mode='lines'))\n",
    "amplitude_spectrum_ekg100_plot.update_xaxes(title_text = 'Frequency [Hz]', range=[0, f100/2])\n",
    "amplitude_spectrum_ekg100_plot.update_yaxes(title_text = 'Amplitude', range=[0,0.02])\n",
    "amplitude_spectrum_ekg100_plot.update_layout(title_text=\"Amplitude spectrum of ekg100\", title_font_size=20, title_x=0.5, showlegend=False)\n",
    "\n",
    "ekg100_plot.show()\n",
    "amplitude_spectrum_ekg100_plot.show()"
   ]
  },
  {
   "attachments": {},
   "cell_type": "markdown",
   "metadata": {},
   "source": [
    ">Sygnał ekg100.txt jest bardzo trudny do ocenienia ze wzgledu na bardzo dużą liczbę próbek. Z tego powodu na wykresie został wyświetlony tylko niewielki fragment sygnału, na którym możemy zobaczyć ponad 4 pełne okresy. Na wykresie widma amplitudowego, chyba nie ma dużych zakłóceń."
   ]
  },
  {
   "attachments": {},
   "cell_type": "markdown",
   "metadata": {},
   "source": [
    "**Ćwiczenie 4.** \n",
    "\n",
    "Celem ćwiczenia jest praktyczne wypróbowanie działania filtrów\n",
    "w celu wyeliminowania niepożądanych zakłóceń z sygnału EKG. Proszę wybrać\n",
    "rodzaj filtra do eksperymentowania, np. Butterwortha lub Czebyszewa. Do filtracji\n",
    "wykorzystać gotowe funkcje z biblioteki scipy.signal. Biblioteka posiada również\n",
    "funkcje wspomagające projektowanie filtrów, które można zastosować.\n",
    "1. Wczytaj sygnał ekg noise.txt i zauważ zakłócenia nałożone na sygnał. Wykreślić\n",
    "częstotliwościową charakterystykę amplitudową sygnału.\n"
   ]
  },
  {
   "cell_type": "code",
   "execution_count": null,
   "metadata": {},
   "outputs": [],
   "source": [
    "frequency_ekg_noise = np.fft.fftfreq(ekg_noise.size, 1/f_noise)\n",
    "amplitude_spectrum_ekg_noise = np.abs(np.fft.fft(ekg_noise['variable']))/(ekg_noise.size//2)\n",
    "\n",
    "amplitude_spectrum_ekg_noise_plot = go.Figure(go.Scatter(x = frequency_ekg_noise, y=amplitude_spectrum_ekg_noise, mode='lines'))\n",
    "amplitude_spectrum_ekg_noise_plot.update_xaxes(title_text = 'Frequency [Hz]', range=[0, f100/2])\n",
    "amplitude_spectrum_ekg_noise_plot.update_yaxes(title_text = 'Amplitude', range=[0,0.06])\n",
    "amplitude_spectrum_ekg_noise_plot.update_layout(title_text=\"Amplitude spectrum of ekg with noise\", title_font_size=20, title_x=0.5, showlegend=False)\n",
    "\n",
    "ekg_noise_plot.show()\n",
    "amplitude_spectrum_ekg_noise_plot.show()"
   ]
  },
  {
   "attachments": {},
   "cell_type": "markdown",
   "metadata": {},
   "source": [
    ">Na wykresie widma amplitudowego oraz na wykresie samego sygnalu możemy zaobserowować dużo zakłóceń, które postaramy się wyeliminować filtrem górno- i dolnoprzepustowym"
   ]
  },
  {
   "attachments": {},
   "cell_type": "markdown",
   "metadata": {},
   "source": [
    "2. Zbadaj filtr dolnoprzepustowy o częstotliwości granicznej 60 Hz w celu redukcji\n",
    "zakłóceń pochodzących z sieci zasilającej. Wyznacz parametry filtra, wykreśl\n",
    "jego charakterystykę (zależność tłumienia od częstotliwości), przebieg sygnału\n",
    "po filtracji oraz jego widmo. Można też wyznaczyć różnicę między sygnałem\n",
    "przed i po filtracji i widmo tej różnicy."
   ]
  },
  {
   "cell_type": "code",
   "execution_count": null,
   "metadata": {},
   "outputs": [],
   "source": [
    "freq_bound_up = 60\n",
    "butterworth_filter_up = ss.butter(6, freq_bound_up, 'low', output = 'sos', fs=f_noise)\n",
    "filtered_ekg_noise_up = ss.sosfilt(butterworth_filter_up, ekg_noise['variable'])\n",
    "\n",
    "filtered_ekg_noise_up_plot = go.Figure()\n",
    "filtered_ekg_noise_up_plot.add_trace(go.Scatter(x=frequency_ekg100, y=filtered_ekg_noise_up, mode='lines'))\n",
    "filtered_ekg_noise_up_plot.update_layout(title_text=\"Lowpass filter on ekg with noise\", title_font_size=20, title_x=0.5, showlegend=False)\n",
    "\n",
    "numerator_up, denominator_up = ss.butter(6, freq_bound_up/(f_noise/2), 'low')\n",
    "frequencies_up, frequency_response_up = ss.freqz(numerator_up, denominator_up) \n",
    "frequency_filtered_up_ekg_noise = frequencies_up*f_noise / (2*np.pi)\n",
    "suppression_up = 20*np.log10(abs(frequency_response_up))\n",
    "\n",
    "ekg_noise_under_60 = filtered_ekg_noise_up - ekg_noise['variable']\n",
    "\n",
    "suppression_up_plot = go.Figure()\n",
    "suppression_up_plot.add_trace(go.Scatter(x=frequency_filtered_up_ekg_noise, y=suppression_up, mode='lines'))\n",
    "suppression_up_plot.update_layout(title_text=\"Dependency suppression from frequency\", title_font_size=20, title_x=0.5, showlegend=False)\n",
    "\n",
    "ekg_noise_under_60_plot = go.Figure()\n",
    "ekg_noise_under_60_plot.add_trace(go.Scatter(x=frequency_ekg100, y = ekg_noise_under_60, mode='lines'))\n",
    "ekg_noise_under_60_plot.update_layout(title_text=\"Ekg with noise with lowpass filter \", title_font_size=20, title_x=0.5, showlegend=False)\n",
    "\n",
    "filtered_ekg_noise_up_plot.show()\n",
    "suppression_up_plot.show()\n",
    "ekg_noise_under_60_plot.show()"
   ]
  },
  {
   "attachments": {},
   "cell_type": "markdown",
   "metadata": {},
   "source": [
    ">Ostatni wykres to wykres sygnału z pliku ekg_noise.txt z zastowsowanym filtrem dolnoprzepustowym dla częstotliwości 60 Hz, już mozna zauważyć, że wykres jest równiejszy niż bez filtra"
   ]
  },
  {
   "attachments": {},
   "cell_type": "markdown",
   "metadata": {},
   "source": [
    "3. Zastosuj następnie, do sygnału otrzymanego w punkcie 2, filtr górnoprzepustowy\n",
    "o częstotliwości granicznej 5 Hz w celu eliminacji pływania linii izoelektrycznej.\n",
    "Sporządź wykresy sygnałów jak w punkcie 2"
   ]
  },
  {
   "cell_type": "code",
   "execution_count": null,
   "metadata": {},
   "outputs": [],
   "source": [
    "freq_bound_down = 5\n",
    "butterworth_filter_down = ss.butter(6, freq_bound_down, 'high', output = 'sos', fs=f_noise)\n",
    "filtered_ekg_noise_under_60 = ss.sosfilt(butterworth_filter_down, ekg_noise_under_60)\n",
    "\n",
    "filtered_ekg_noise_under_60_down_plot = go.Figure()\n",
    "filtered_ekg_noise_under_60_down_plot.add_trace(go.Scatter(x=frequency_ekg100, y=filtered_ekg_noise_under_60, mode='lines'))\n",
    "filtered_ekg_noise_under_60_down_plot.update_layout(title_text=\"Highpass filter on ekg with noise and lowpass filter\", title_font_size=20, title_x=0.5, showlegend=False)\n",
    "\n",
    "numerator_down, denominator_down = ss.butter(6,freq_bound_down/(f_noise/2), 'high')\n",
    "frequencies_down, frequency_response_down = ss.freqz(numerator_down, denominator_down) \n",
    "frequency_filtered_down_ekg_noise = frequencies_down*f_noise / (2*np.pi)\n",
    "suppression_down = 20*np.log10(abs(frequency_response_down))\n",
    "\n",
    "ekg_noise_over_5 = ekg_noise_under_60 - filtered_ekg_noise_under_60\n",
    "\n",
    "suppression_down_plot = go.Figure()\n",
    "suppression_down_plot.add_trace(go.Scatter(x=frequency_filtered_down_ekg_noise, y=suppression_down, mode='lines'))\n",
    "suppression_down_plot.update_layout(title_text=\"Dependency suppression from frequency\", title_font_size=20, title_x=0.5, showlegend=False)\n",
    "\n",
    "ekg_noise_over_5_plot = go.Figure()\n",
    "ekg_noise_over_5_plot.add_trace(go.Scatter(x=frequency_ekg100, y = ekg_noise_over_5, mode='lines', name='filtered ekg'))\n",
    "ekg_noise_over_5_plot.add_trace(go.Scatter(x=frequency_ekg100, y = ekg_noise['variable'], mode='lines', name='ekg with noise'))\n",
    "ekg_noise_over_5_plot.update_layout(title_text=\"Ekg with noise with lowpass filter and highpass filter\", title_font_size=20, title_x=0.5)\n",
    "\n",
    "filtered_ekg_noise_under_60_down_plot.show()\n",
    "suppression_down_plot.show()\n",
    "ekg_noise_over_5_plot.show()\n"
   ]
  },
  {
   "attachments": {},
   "cell_type": "markdown",
   "metadata": {},
   "source": [
    "> Ostatni wykres zawiera sygnał z pliku ekg_noise.txt oraz ten sam sygnał z zastosowanym filtrem dolnoprzepustowym dla częstotliwości 60 Hz oraz górnoprzepustowym dla częstotliwości 5 Hz. Możemy zauważyć, że sygnał jest równiejszy - idzie niemal w poziomie, oraz amplituda na fragmentach pomiędzy 'prążkami' jest znacznie mniejsza"
   ]
  }
 ],
 "metadata": {
  "kernelspec": {
   "display_name": "ispi-venv",
   "language": "python",
   "name": "ispi-venv"
  },
  "language_info": {
   "codemirror_mode": {
    "name": "ipython",
    "version": 3
   },
   "file_extension": ".py",
   "mimetype": "text/x-python",
   "name": "python",
   "nbconvert_exporter": "python",
   "pygments_lexer": "ipython3",
   "version": "3.9.6"
  },
  "orig_nbformat": 4
 },
 "nbformat": 4,
 "nbformat_minor": 2
}
